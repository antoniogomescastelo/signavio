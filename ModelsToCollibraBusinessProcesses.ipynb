{
 "cells": [
  {
   "cell_type": "code",
   "execution_count": 1,
   "metadata": {},
   "outputs": [],
   "source": [
    "import os\n",
    "import requests\n",
    "from requests.auth import HTTPBasicAuth\n",
    "import ipywidgets as widgets\n",
    "import pandas as pd"
   ]
  },
  {
   "cell_type": "code",
   "execution_count": 2,
   "metadata": {},
   "outputs": [],
   "source": [
    "# change\n",
    "def x(l, k, v): l[k] = v"
   ]
  },
  {
   "cell_type": "code",
   "execution_count": 3,
   "metadata": {},
   "outputs": [],
   "source": [
    "# selection widget\n",
    "def w(w, o, n): v = w(options=sorted(o), description=n, layout=widgets.Layout(width=\"40%\")); display(v); return v"
   ]
  },
  {
   "cell_type": "code",
   "execution_count": 4,
   "metadata": {},
   "outputs": [],
   "source": [
    "# search signavio\n",
    "def search(signavio, q, limit=None, offset=None, types=None):\n",
    "    try:                  \n",
    "        url = f\"{signavio.get('host')}/p/search?q={q}\"\n",
    "        \n",
    "        url = f\"{url}&limit={limit}\" if limit is not None else f\"{url}\"\n",
    "\n",
    "        url = f\"{url}&offset={offset}\" if offset is not None else f\"{url}\"\n",
    "\n",
    "        url = f\"{url}{''.join([f'&types={t}' for t in types])}\" if types is not None else f\"{url}\"\n",
    "\n",
    "        headers = {\"x-signavio-id\": signavio.get(\"authToken\"), \"accept\": \"application/json\"}\n",
    "\n",
    "        cookies = {\"JSESSIONID\": signavio.get(\"jsessionId\"), \"LBROUTEID\": signavio.get(\"lbrouteId\")}\n",
    "\n",
    "        request = requests.get(url, headers=headers, cookies=cookies)\n",
    "\n",
    "        return request.json()\n",
    "\n",
    "    except Exception as e:\n",
    "        return e"
   ]
  },
  {
   "cell_type": "code",
   "execution_count": 5,
   "metadata": {},
   "outputs": [],
   "source": [
    "# get a signavio folder\n",
    "def getFolder(signavio, folder):\n",
    "    try:                  \n",
    "        url = f\"{signavio.get('host')}/p{folder.get('href')}\"\n",
    "\n",
    "        headers = {\"x-signavio-id\": signavio.get(\"authToken\"), \"accept\": \"application/json\"}\n",
    "\n",
    "        cookies = {\"JSESSIONID\": signavio.get(\"jsessionId\"), \"LBROUTEID\": signavio.get(\"lbrouteId\")}\n",
    "\n",
    "        request = requests.get(url, headers=headers, cookies=cookies)\n",
    "\n",
    "        return request.json()\n",
    "\n",
    "    except Exception as e:\n",
    "        return e"
   ]
  },
  {
   "cell_type": "code",
   "execution_count": 6,
   "metadata": {},
   "outputs": [],
   "source": [
    "# check if a given signavio folder is valid\n",
    "def isFolderValid(folder):\n",
    "    result = True\n",
    "\n",
    "    try:                  \n",
    "        result = False if folder.get(\"rel\") != \"dir\" else result \n",
    "\n",
    "        result = False if folder.get(\"rep\").get(\"deleted\") == True else result\n",
    "\n",
    "        result = False if folder.get(\"rep\").get(\"visible\") != True else result\n",
    "\n",
    "        return result\n",
    "    \n",
    "    except Exception as e:\n",
    "        return False"
   ]
  },
  {
   "cell_type": "code",
   "execution_count": 7,
   "metadata": {},
   "outputs": [],
   "source": [
    "# get a signavio model\n",
    "def getModel(signavio, model):\n",
    "    try:                  \n",
    "        url = f\"{signavio.get('host')}/p{model.get('href')}\"\n",
    "\n",
    "        headers = {\"x-signavio-id\": signavio.get(\"authToken\"), \"accept\": \"application/json\"}\n",
    "\n",
    "        cookies = {\"JSESSIONID\": signavio.get(\"jsessionId\"), \"LBROUTEID\": signavio.get(\"lbrouteId\")}\n",
    "\n",
    "        request = requests.get(url, headers=headers, cookies=cookies)\n",
    "\n",
    "        return request.json()\n",
    "\n",
    "    except Exception as e:\n",
    "        return e"
   ]
  },
  {
   "cell_type": "code",
   "execution_count": 8,
   "metadata": {},
   "outputs": [],
   "source": [
    "# get the properties of a signavio model\n",
    "def getModelProperties(signavio, model):\n",
    "    try:                  \n",
    "        url = f\"{signavio.get('host')}/p{'/'.join(model.get('href').split('/')[0:-1])}/json\"\n",
    "        \n",
    "        headers = {\"x-signavio-id\": signavio.get(\"authToken\"), \"accept\": \"application/json\"}\n",
    "\n",
    "        cookies = {\"JSESSIONID\": signavio.get(\"jsessionId\"), \"LBROUTEID\": signavio.get(\"lbrouteId\")}\n",
    "\n",
    "        request = requests.get(url, headers=headers, cookies=cookies)\n",
    "\n",
    "        return request.json().get(\"properties\")\n",
    "    \n",
    "    except Exception as e:\n",
    "        return e"
   ]
  },
  {
   "cell_type": "code",
   "execution_count": 9,
   "metadata": {},
   "outputs": [],
   "source": [
    "# get the network graphics of a signavio model\n",
    "def getModelPng(signavio, model):\n",
    "    try:                  \n",
    "        url = f\"{signavio.get('host')}/p{'/'.join(model.get('href').split('/')[0:-1])}/png\"\n",
    "\n",
    "        headers = {\"x-signavio-id\": signavio.get(\"authToken\"), \"content-type\": \"image/png;charset=utf-8\"}\n",
    "\n",
    "        cookies = {\"JSESSIONID\": signavio.get(\"jsessionId\"), \"LBROUTEID\": signavio.get(\"lbrouteId\")}\n",
    "\n",
    "        request = requests.get(url, headers=headers, cookies=cookies)\n",
    "\n",
    "        return request.content\n",
    "    \n",
    "    except Exception as e:\n",
    "        return e"
   ]
  },
  {
   "cell_type": "code",
   "execution_count": 10,
   "metadata": {},
   "outputs": [],
   "source": [
    "# get the vector graphics of a signavio model\n",
    "def getModelSvg(signavio, model):\n",
    "    try:                  \n",
    "        url = f\"{signavio.get('host')}/p{'/'.join(model.get('href').split('/')[0:-1])}/svg\"\n",
    "\n",
    "        headers = {\"x-signavio-id\": signavio.get(\"authToken\"), \"content-type\": \"image/svg+xml;charset=utf-8\"}\n",
    "\n",
    "        cookies = {\"JSESSIONID\": signavio.get(\"jsessionId\"), \"LBROUTEID\": signavio.get(\"lbrouteId\")}\n",
    "\n",
    "        request = requests.get(url, headers=headers, cookies=cookies)\n",
    "\n",
    "        return request.content\n",
    "    \n",
    "    except Exception as e:\n",
    "        return e"
   ]
  },
  {
   "cell_type": "code",
   "execution_count": 11,
   "metadata": {},
   "outputs": [],
   "source": [
    "# get the linked models of a signavio model\n",
    "def getModelLinks(signavio, model):\n",
    "    try:                  \n",
    "        url = f\"{signavio.get('host')}/p{'/'.join(model.get('href').split('/')[0:-1])}/link\"\n",
    "\n",
    "        headers = {\"x-signavio-id\": signavio.get(\"authToken\"), \"accept\": \"application/json\"}\n",
    "\n",
    "        cookies = {\"JSESSIONID\": signavio.get(\"jsessionId\"), \"LBROUTEID\": signavio.get(\"lbrouteId\")}\n",
    "\n",
    "        request = requests.get(url, headers=headers, cookies=cookies)\n",
    "\n",
    "        return request.json()\n",
    "    \n",
    "    except Exception as e:\n",
    "        return e"
   ]
  },
  {
   "cell_type": "code",
   "execution_count": 12,
   "metadata": {},
   "outputs": [],
   "source": [
    "# get the dictionary items of a signavio model \n",
    "def getModelDictionary(signavio, model):\n",
    "    try:                  \n",
    "        url = f\"{signavio.get('host')}/p{'/'.join(model.get('href').split('/')[0:-1])}/glossaryinfo\"\n",
    "\n",
    "        headers = {\"x-signavio-id\": signavio.get(\"authToken\"), \"accept\": \"application/json\"}\n",
    "\n",
    "        cookies = {\"JSESSIONID\": signavio.get(\"jsessionId\"), \"LBROUTEID\": signavio.get(\"lbrouteId\")}\n",
    "\n",
    "        request = requests.get(url, headers=headers, cookies=cookies)\n",
    "\n",
    "        return request.json()\n",
    "    \n",
    "    except Exception as e:\n",
    "        return e"
   ]
  },
  {
   "cell_type": "code",
   "execution_count": 13,
   "metadata": {},
   "outputs": [],
   "source": [
    "# get the comments of a signavio model\n",
    "def getModelComments(signavio, model):\n",
    "    try:                  \n",
    "        url = f\"{signavio.get('host')}/p{'/'.join(model.get('href').split('/')[0:-1])}/comments\"\n",
    "\n",
    "        headers = {\"x-signavio-id\": signavio.get(\"authToken\"), \"accept\": \"application/json\"}\n",
    "\n",
    "        cookies = {\"JSESSIONID\": signavio.get(\"jsessionId\"), \"LBROUTEID\": signavio.get(\"lbrouteId\")}\n",
    "\n",
    "        request = requests.get(url, headers=headers, cookies=cookies)\n",
    "\n",
    "        return request.json()\n",
    "    \n",
    "    except Exception as e:\n",
    "        return e"
   ]
  },
  {
   "cell_type": "code",
   "execution_count": 14,
   "metadata": {},
   "outputs": [],
   "source": [
    "# get a signavio model info given a href\n",
    "def getModelInfo(signavio, href):\n",
    "    try:                  \n",
    "        url = f\"{signavio.get('host')}/p{href}/info\"\n",
    "\n",
    "        headers = {\"x-signavio-id\": signavio.get(\"authToken\"), \"accept\": \"application/json\"}\n",
    "\n",
    "        cookies = {\"JSESSIONID\": signavio.get(\"jsessionId\"), \"LBROUTEID\": signavio.get(\"lbrouteId\")}\n",
    "\n",
    "        request = requests.get(url, headers=headers, cookies=cookies)\n",
    "\n",
    "        return request.json()\n",
    "\n",
    "    except Exception as e:\n",
    "        return e"
   ]
  },
  {
   "cell_type": "code",
   "execution_count": 15,
   "metadata": {},
   "outputs": [],
   "source": [
    "# get a signavio model json given a href\n",
    "def getModelJson(signavio, href):\n",
    "    try:                  \n",
    "        url = f\"{signavio.get('host')}/p{href}/json\"\n",
    "\n",
    "        headers = {\"x-signavio-id\": signavio.get(\"authToken\"), \"accept\": \"application/json\"}\n",
    "\n",
    "        cookies = {\"JSESSIONID\": signavio.get(\"jsessionId\"), \"LBROUTEID\": signavio.get(\"lbrouteId\")}\n",
    "\n",
    "        request = requests.get(url, headers=headers, cookies=cookies)\n",
    "\n",
    "        return request.json()\n",
    "\n",
    "    except Exception as e:\n",
    "        return e"
   ]
  },
  {
   "cell_type": "code",
   "execution_count": 16,
   "metadata": {},
   "outputs": [],
   "source": [
    "# check if a given signavio model is valid\n",
    "def isModelValid(model, modelType=None, deployedOnly=False, approvedOnly=False, publishedOnly=False):\n",
    "    result = True \n",
    "\n",
    "    try:\n",
    "        result = False if model.get(\"rel\") != \"mod\" else result \n",
    "\n",
    "        result = False if model.get(\"rep\").get(\"deleted\") == True else result\n",
    "    \n",
    "        result = False if model.get(\"rep\").get(\"status\").get(\"deleted\") == True else result\n",
    "\n",
    "        if deployedOnly: result = False if model.get(\"rep\").get(\"isDeployed\") == False else result\n",
    "\n",
    "        if approvedOnly: result = False if model.get(\"rep\").get(\"status\").get(\"approve\") == False else result\n",
    "\n",
    "        if publishedOnly: result = False if model.get(\"rep\").get(\"status\").get(\"publish\") == False else result\n",
    "\n",
    "        if modelType is not None: result = False if model.get(\"rep\").get(\"type\") not in modelType else result\n",
    "\n",
    "        return result\n",
    "\n",
    "    except Exception as e:\n",
    "        return False"
   ]
  },
  {
   "cell_type": "code",
   "execution_count": 17,
   "metadata": {},
   "outputs": [],
   "source": [
    "# get all custom attributes defined in the dictionary \n",
    "def getattributes(signavio):\n",
    "    url = f\"{signavio.get('host')}/p/meta\"\n",
    "\n",
    "    headers = {\"x-signavio-id\": signavio.get(\"authToken\"), \"accept\":\"application/json\"}\n",
    "\n",
    "    cookies = {\"JSESSIONID\": signavio.get(\"jsessionId\"), \"LBROUTEID\": signavio.get(\"lbrouteId\")}\n",
    "\n",
    "    request = requests.get(url, headers=headers, cookies=cookies)\n",
    "\n",
    "    return request.json()"
   ]
  },
  {
   "cell_type": "code",
   "execution_count": 18,
   "metadata": {},
   "outputs": [],
   "source": [
    "# get all dictionary categories found in the dictionary\n",
    "def getcategories(signavio):\n",
    "    url = f\"{signavio.get('host')}/p/glossarycategory?allCategories=true\"\n",
    "\n",
    "    headers = {\"x-signavio-id\": signavio.get(\"authToken\"), \"accept\":\"application/json\"}\n",
    "\n",
    "    cookies = {\"JSESSIONID\": signavio.get(\"jsessionId\"), \"LBROUTEID\": signavio.get(\"lbrouteId\")}\n",
    "\n",
    "    request = requests.get(url, headers=headers, cookies=cookies)\n",
    "\n",
    "    return request.json()"
   ]
  },
  {
   "cell_type": "code",
   "execution_count": 19,
   "metadata": {},
   "outputs": [],
   "source": [
    "# get a dictionary entry from the dictionary\n",
    "def getEntry(signavio, entry):\n",
    "    url = f\"{signavio.get('host')}/p{entry}/info\"\n",
    "\n",
    "    headers = {\"x-signavio-id\": signavio.get(\"authToken\"), \"accept\":\"application/json\"}\n",
    "\n",
    "    cookies = {\"JSESSIONID\": signavio.get(\"jsessionId\"), \"LBROUTEID\": signavio.get(\"lbrouteId\")}\n",
    "\n",
    "    request = requests.get(url, headers=headers, cookies=cookies)\n",
    "\n",
    "    return request.json()"
   ]
  },
  {
   "cell_type": "code",
   "execution_count": 20,
   "metadata": {},
   "outputs": [],
   "source": [
    "# update a model given a new model revision\n",
    "def updateModel(signavio, asset):\n",
    "    url = f\"{signavio.get('host')}/p{asset.get('href')}\"\n",
    "\n",
    "    data = {\n",
    "        \"name\": asset.get(\"name\"),\n",
    "        \"json_xml\": str(asset.get(\"json\")).encode(\"utf-8\"),\n",
    "        \"parent\": asset.get(\"info\").get(\"parent\"),\n",
    "        \"comment\": \"updated\"\n",
    "    }\n",
    "\n",
    "    headers = {\"x-signavio-id\": signavio.get(\"authToken\"), \"accept\":\"application/json\", 'content-type': 'application/x-www-form-urlencoded'}\n",
    "\n",
    "    cookies = {\"JSESSIONID\": signavio.get(\"jsessionId\"), \"LBROUTEID\": signavio.get(\"lbrouteId\")}\n",
    "\n",
    "    request = requests.put(url, headers=headers, cookies=cookies, data=data)\n",
    "\n",
    "    return request.json()"
   ]
  },
  {
   "cell_type": "code",
   "execution_count": 21,
   "metadata": {},
   "outputs": [],
   "source": [
    "# get assets of type and name \n",
    "def getAssets(collibra, assetTypes, assetNames, hrefAttributeType):\n",
    "    viewConfig = {\n",
    "        \"ViewConfig\": {\n",
    "            \"maxCountLimit\": \"-1\",\n",
    "            \"Resources\": {\n",
    "                \"Asset\": {\n",
    "                    \"name\": \"Assets\",\n",
    "                    \"Id\": {\n",
    "                        \"name\": \"assetId\"\n",
    "                    },\n",
    "                    \"Signifier\": {\n",
    "                        \"name\": \"assetName\"\n",
    "                    },\n",
    "                    \"AssetType\": {\n",
    "                        \"name\": \"assetType\",\n",
    "                        \"Id\": {\n",
    "                            \"name\": \"assetTypeId\"\n",
    "                        }\n",
    "                    },\n",
    "                    \"Status\": {\n",
    "                        \"name\": \"assetStatus\",\n",
    "                        \"Id\": {\n",
    "                            \"name\": \"assetStatusId\"\n",
    "                        }\n",
    "                    },\n",
    "                    \"Domain\": {\n",
    "                        \"name\": \"assetDomain\",\n",
    "                        \"Id\": {\n",
    "                            \"name\": \"assetDomainId\"\n",
    "                        }\n",
    "                    },\n",
    "                    \"StringAttribute\": [\n",
    "                        {\n",
    "                            \"name\": \"href\",\n",
    "                            \"labelId\": hrefAttributeType,\n",
    "                            \"LongExpression\": {\n",
    "                                \"name\": \"hrefValue\"\n",
    "                            }\n",
    "                        }  \n",
    "                    ],\n",
    "                    \"Filter\": {\n",
    "                        \"AND\": [\n",
    "                            {\n",
    "                                \"Field\": {\n",
    "                                    \"name\": \"assetTypeId\",\n",
    "                                    \"operator\": \"IN\", \n",
    "                                    \"values\": [assetType.get(\"id\") for assetType in assetTypes]\n",
    "                                }                                \n",
    "                            },\n",
    "                            {\n",
    "                                \"Field\": {\n",
    "                                    \"name\": \"assetName\",\n",
    "                                    \"operator\": \"IN\",\n",
    "                                    \"value\": [name for name in assetNames]\n",
    "                                }\n",
    "                            }\n",
    "                        ]\n",
    "                    }              \n",
    "                }\n",
    "            }\n",
    "        }\n",
    "    }\n",
    " \n",
    "    response = collibra.get(\"session\").post(f\"{collibra.get('endpoint')}/outputModule/export/json?validationEnabled=false\", json=viewConfig)\n",
    "\n",
    "    return response.json().get(\"view\").get(\"Assets\")"
   ]
  },
  {
   "cell_type": "code",
   "execution_count": 22,
   "metadata": {},
   "outputs": [],
   "source": [
    "def save(collibra, assetId, data, fileType): \n",
    "    with open(f\"{assetId}.{fileType}\", \"wb\") as f:\n",
    "        f.write(data)\n",
    "\n",
    "    file = open(f\"{assetId}.{fileType}\", \"rb\").read()\n",
    "\n",
    "    files = {\"file\": file}\n",
    "\n",
    "    payload = {\"fileName\": f\"{assetId}.{fileType}\", \"resourceType\": \"Asset\", \"resourceId\": assetId}\n",
    "\n",
    "    response = collibra.get(\"session\").post(f\"{collibra.get('endpoint')}/attachments\", files=files, data=payload)\n",
    "\n",
    "    os.remove(f\"{assetId}.{fileType}\")\n",
    "\n",
    "    return response.json()"
   ]
  },
  {
   "cell_type": "code",
   "execution_count": 23,
   "metadata": {},
   "outputs": [],
   "source": [
    "# credentials\n",
    "signavio = {\"host\": \"https://editor.signavio.com\", \"tenant\": \"93ab506a8d87439f9fbb680fdbc95d4b\", \"username\": \"antonio.castelo@collibra.com\", \"password\": \"W2.Collibra\"}"
   ]
  },
  {
   "cell_type": "code",
   "execution_count": 24,
   "metadata": {},
   "outputs": [],
   "source": [
    "# connect to signavio \n",
    "url = f\"{signavio.get('host')}/p/login\"\n",
    "\n",
    "data = {\"name\": signavio.get(\"username\"), \"password\": signavio.get(\"password\"), \"tenant\": signavio.get(\"tenant\"), \"tokenonly\": \"true\"}\n",
    "\n",
    "request = requests.post(url, data)\n",
    "\n",
    "authToken = request.content.decode(\"utf-8\")\n",
    "\n",
    "jsessionId = request.cookies.get(\"JSESSIONID\")\n",
    "\n",
    "lbrouteId = request.cookies.get(\"LBROUTEID\")\n",
    "\n",
    "signavio = {\"host\": signavio.get(\"host\"), \"tenant\": signavio.get(\"tenant\"), \"authToken\": authToken, \"jsessionId\": jsessionId, \"lbrouteId\": lbrouteId}"
   ]
  },
  {
   "cell_type": "code",
   "execution_count": 25,
   "metadata": {},
   "outputs": [],
   "source": [
    "# list all the signavio folders\n",
    "folders = {}\n",
    "\n",
    "_=[x(folders, folder.get(\"rep\").get(\"name\"), folder) for folder in search(signavio, q='*', types=[\"DIR\"]) if isFolderValid(folder)]"
   ]
  },
  {
   "cell_type": "code",
   "execution_count": 26,
   "metadata": {},
   "outputs": [
    {
     "data": {
      "application/vnd.jupyter.widget-view+json": {
       "model_id": "55d81128c538432c97e3bfe4ecd72969",
       "version_major": 2,
       "version_minor": 0
      },
      "text/plain": [
       "SelectMultiple(description='Folders', layout=Layout(width='40%'), options=('Core Processes', 'Level 3 &amp; 4:…"
      ]
     },
     "metadata": {},
     "output_type": "display_data"
    }
   ],
   "source": [
    "# choose the signavio folders to query \n",
    "widget = w(widgets.SelectMultiple, [f\"{k}\" for k,v in folders.items()], 'Folders')"
   ]
  },
  {
   "cell_type": "code",
   "execution_count": 27,
   "metadata": {},
   "outputs": [],
   "source": [
    "foldersToQuery = [getFolder(signavio, folders.get(folder)) for folder in widget.value]"
   ]
  },
  {
   "cell_type": "code",
   "execution_count": 28,
   "metadata": {},
   "outputs": [],
   "source": [
    "# get the custom attributes used by the signavio category \n",
    "attributes = {}\n",
    "\n",
    "_=[x(attributes, attribute.get(\"rep\").get(\"name\"), attribute) for attribute in getattributes(signavio)]\n"
   ]
  },
  {
   "cell_type": "code",
   "execution_count": 29,
   "metadata": {},
   "outputs": [
    {
     "data": {
      "application/vnd.jupyter.widget-view+json": {
       "model_id": "dd45ff7181f8484180f750544653ce4f",
       "version_major": 2,
       "version_minor": 0
      },
      "text/plain": [
       "Dropdown(description='Consumes Assets', layout=Layout(width='40%'), options=('ATTACHMENTS', 'Cause', 'Conseque…"
      ]
     },
     "metadata": {},
     "output_type": "display_data"
    }
   ],
   "source": [
    "# choose the custom attribute holding the consuming data assets\n",
    "widget = w(widgets.Dropdown, [f\"{k}\" for k,v in attributes.items()], 'Consumes Assets')"
   ]
  },
  {
   "cell_type": "code",
   "execution_count": 30,
   "metadata": {},
   "outputs": [],
   "source": [
    "consumesAttributeToGet = attributes.get(widget.value)"
   ]
  },
  {
   "cell_type": "code",
   "execution_count": 31,
   "metadata": {},
   "outputs": [
    {
     "data": {
      "application/vnd.jupyter.widget-view+json": {
       "model_id": "daff84bee7734e028b435c5a05a2ce6f",
       "version_major": 2,
       "version_minor": 0
      },
      "text/plain": [
       "Dropdown(description='Produces Assets', layout=Layout(width='40%'), options=('ATTACHMENTS', 'Cause', 'Conseque…"
      ]
     },
     "metadata": {},
     "output_type": "display_data"
    }
   ],
   "source": [
    "# choose the custom attribute holding the producing data assets\n",
    "widget = w(widgets.Dropdown, [f\"{k}\" for k,v in attributes.items()], 'Produces Assets')"
   ]
  },
  {
   "cell_type": "code",
   "execution_count": 32,
   "metadata": {},
   "outputs": [],
   "source": [
    "producesAttributeToGet = attributes.get(widget.value)"
   ]
  },
  {
   "cell_type": "code",
   "execution_count": 33,
   "metadata": {},
   "outputs": [
    {
     "data": {
      "application/vnd.jupyter.widget-view+json": {
       "model_id": "406a1b7af3004a43877dd13ef7dfc456",
       "version_major": 2,
       "version_minor": 0
      },
      "text/plain": [
       "Dropdown(description='Asset uuid', layout=Layout(width='40%'), options=('ATTACHMENTS', 'Cause', 'Consequence',…"
      ]
     },
     "metadata": {},
     "output_type": "display_data"
    }
   ],
   "source": [
    "# choose the custom attribute holding the collibra asset id\n",
    "widget = w(widgets.Dropdown, [f\"{k}\" for k,v in attributes.items()], 'Asset uuid')"
   ]
  },
  {
   "cell_type": "code",
   "execution_count": 34,
   "metadata": {},
   "outputs": [],
   "source": [
    "uuidAttributeToSet = attributes.get(widget.value)"
   ]
  },
  {
   "cell_type": "code",
   "execution_count": 35,
   "metadata": {},
   "outputs": [
    {
     "data": {
      "application/vnd.jupyter.widget-view+json": {
       "model_id": "b2ded3abfdf04e2ab07417d96973f23a",
       "version_major": 2,
       "version_minor": 0
      },
      "text/plain": [
       "Dropdown(description='Type uuid', layout=Layout(width='40%'), options=('ATTACHMENTS', 'Cause', 'Consequence', …"
      ]
     },
     "metadata": {},
     "output_type": "display_data"
    }
   ],
   "source": [
    "# choose the custom attribute holding the collibra type id\n",
    "widget = w(widgets.Dropdown, [f\"{k}\" for k,v in attributes.items()], 'Type uuid')"
   ]
  },
  {
   "cell_type": "code",
   "execution_count": 36,
   "metadata": {},
   "outputs": [],
   "source": [
    "typeAttributeToSet = attributes.get(widget.value)"
   ]
  },
  {
   "cell_type": "code",
   "execution_count": 37,
   "metadata": {},
   "outputs": [
    {
     "data": {
      "application/vnd.jupyter.widget-view+json": {
       "model_id": "23561e52d0ad4419952a4bf1168872ae",
       "version_major": 2,
       "version_minor": 0
      },
      "text/plain": [
       "Dropdown(description='Asset href', layout=Layout(width='40%'), options=('ATTACHMENTS', 'Cause', 'Consequence',…"
      ]
     },
     "metadata": {},
     "output_type": "display_data"
    }
   ],
   "source": [
    "# choose the custom attribute holding the collibra asset url \n",
    "widget = w(widgets.Dropdown, [f\"{k}\" for k,v in attributes.items()], 'Asset href')"
   ]
  },
  {
   "cell_type": "code",
   "execution_count": 38,
   "metadata": {},
   "outputs": [],
   "source": [
    "hrefAttributeToSet = attributes.get(widget.value)"
   ]
  },
  {
   "cell_type": "code",
   "execution_count": 39,
   "metadata": {},
   "outputs": [],
   "source": [
    "# get all signavio dictionary categories\n",
    "categories = {}\n",
    "\n",
    "_=[x(categories, category.get(\"rep\").get(\"name\"), category) for category in getcategories(signavio) if category.get(\"rel\") == \"cat\"]"
   ]
  },
  {
   "cell_type": "code",
   "execution_count": 40,
   "metadata": {},
   "outputs": [
    {
     "data": {
      "application/vnd.jupyter.widget-view+json": {
       "model_id": "6f22ef7eca7f4a7faea7658e571d7631",
       "version_major": 2,
       "version_minor": 0
      },
      "text/plain": [
       "Dropdown(description='Category', layout=Layout(width='40%'), options=('Activities', 'Controls', 'Data Concepts…"
      ]
     },
     "metadata": {},
     "output_type": "display_data"
    }
   ],
   "source": [
    "# choose the signavio dictionary category to get\n",
    "widget = w(widgets.Dropdown, [f\"{k}\" for k,v in categories.items()], 'Category')"
   ]
  },
  {
   "cell_type": "code",
   "execution_count": 41,
   "metadata": {},
   "outputs": [],
   "source": [
    "categoryToGet = categories.get(widget.value)"
   ]
  },
  {
   "cell_type": "code",
   "execution_count": 42,
   "metadata": {},
   "outputs": [],
   "source": [
    "# get the details of all selected signavio folders to create or update\n",
    "foldersToUpsert = [info for folder in foldersToQuery for info in folder if info.get(\"rel\") == \"info\"]"
   ]
  },
  {
   "cell_type": "code",
   "execution_count": 43,
   "metadata": {},
   "outputs": [],
   "source": [
    "# list all signavio models found on the selected folders ignoring any child folders\n",
    "modelsToUpsert = [getModel(signavio, model) for folder in foldersToQuery for model in folder if isModelValid(model, modelType=[\"Business Process Diagram (BPMN 2.0)\"])]"
   ]
  },
  {
   "cell_type": "code",
   "execution_count": 44,
   "metadata": {},
   "outputs": [],
   "source": [
    "# get the details of all selected signavio models to create or update\n",
    "modelsToUpsert = [info for model in modelsToUpsert for info in model if info.get(\"rel\") == \"info\"]"
   ]
  },
  {
   "cell_type": "code",
   "execution_count": 45,
   "metadata": {},
   "outputs": [],
   "source": [
    "# get the properties of all signavio models found on the selected folders \n",
    "_=[model.update({\"properties\": getModelProperties(signavio, model)}) for model in modelsToUpsert]"
   ]
  },
  {
   "cell_type": "code",
   "execution_count": 46,
   "metadata": {},
   "outputs": [],
   "source": [
    "# get the network graphics of all signavio models found on the selected folders \n",
    "_=[model.update({\"png\": getModelPng(signavio, model)}) for model in modelsToUpsert]"
   ]
  },
  {
   "cell_type": "code",
   "execution_count": 47,
   "metadata": {},
   "outputs": [],
   "source": [
    "# get the vector graphics of all signavio models found on the selected folders \n",
    "_=[model.update({\"svg\": getModelSvg(signavio, model)}) for model in modelsToUpsert]"
   ]
  },
  {
   "cell_type": "code",
   "execution_count": 48,
   "metadata": {},
   "outputs": [],
   "source": [
    "# get the linked models of all signavio models found on the selected folders \n",
    "_=[model.update({\"links\": getModelLinks(signavio, model)}) for model in modelsToUpsert]\n"
   ]
  },
  {
   "cell_type": "code",
   "execution_count": 49,
   "metadata": {},
   "outputs": [],
   "source": [
    "# get the dictionary items of all signavio models found on the selected folders \n",
    "_=[model.update({\"dictionary\": getModelDictionary(signavio, model)}) for model in modelsToUpsert]"
   ]
  },
  {
   "cell_type": "code",
   "execution_count": 50,
   "metadata": {},
   "outputs": [],
   "source": [
    "# get the comments of all signavio models found on the selected folders \n",
    "_=[model.update({\"comments\": getModelComments(signavio, model)}) for model in modelsToUpsert]"
   ]
  },
  {
   "cell_type": "code",
   "execution_count": 51,
   "metadata": {},
   "outputs": [],
   "source": [
    "# credentials\n",
    "collibra = {\"host\": \"https://print.collibra.com\", \"username\": \"DataLakeAdmin\", \"password\": \"W2.Collibra\"}\n",
    "\n",
    "collibra[\"endpoint\"] = f\"{collibra['host']}/rest/2.0\""
   ]
  },
  {
   "cell_type": "code",
   "execution_count": 52,
   "metadata": {},
   "outputs": [],
   "source": [
    "# connect to collibra \n",
    "collibra[\"session\"] = requests.Session()\n",
    "\n",
    "collibra.get(\"session\").auth = HTTPBasicAuth(collibra.get(\"username\"), collibra.get(\"password\"))"
   ]
  },
  {
   "cell_type": "code",
   "execution_count": 53,
   "metadata": {},
   "outputs": [],
   "source": [
    "# get the collibra asset types\n",
    "assetTypes = {}\n",
    "\n",
    "response = collibra.get(\"session\").get(f\"{collibra.get('endpoint')}/assetTypes\")\n",
    "\n",
    "_=[x(assetTypes, assetType.get(\"name\"), assetType) for assetType in response.json()[\"results\"]] "
   ]
  },
  {
   "cell_type": "code",
   "execution_count": 54,
   "metadata": {},
   "outputs": [],
   "source": [
    "# get the collibra attribute types\n",
    "attributeTypes = {}\n",
    "\n",
    "response = collibra.get(\"session\").get(f\"{collibra.get('endpoint')}/attributeTypes\")\n",
    "\n",
    "_=[x(attributeTypes, attributeType.get(\"name\"), attributeType) for attributeType in response.json()[\"results\"]]"
   ]
  },
  {
   "cell_type": "code",
   "execution_count": 55,
   "metadata": {},
   "outputs": [],
   "source": [
    "# get the collibra relation types\n",
    "relationTypes = {}\n",
    "\n",
    "response = collibra.get(\"session\").get(f\"{collibra.get('endpoint')}/relationTypes\")\n",
    "\n",
    "_=[x(relationTypes, f\"{relationType.get('sourceType').get('name')} {relationType.get('role')} {relationType.get('targetType').get('name')}\", relationType) for relationType in response.json()[\"results\"]]"
   ]
  },
  {
   "cell_type": "code",
   "execution_count": 56,
   "metadata": {},
   "outputs": [],
   "source": [
    "# get the collibra statuses\n",
    "statuses = {}\n",
    "\n",
    "response = collibra.get(\"session\").get(f\"{collibra.get('endpoint')}/statuses\")\n",
    "\n",
    "_=[x(statuses, status.get(\"name\"), status) for status in response.json()[\"results\"]]"
   ]
  },
  {
   "cell_type": "code",
   "execution_count": 57,
   "metadata": {},
   "outputs": [],
   "source": [
    "# get the collibra communities\n",
    "communities = {}\n",
    "\n",
    "response = collibra.get(\"session\").get(f\"{collibra.get('endpoint')}/communities\")\n",
    "\n",
    "_=[x(communities, community.get(\"name\"), community) for community in response.json()[\"results\"]]"
   ]
  },
  {
   "cell_type": "code",
   "execution_count": 58,
   "metadata": {},
   "outputs": [
    {
     "data": {
      "application/vnd.jupyter.widget-view+json": {
       "model_id": "db28fdacf568444fba5909b1468133fc",
       "version_major": 2,
       "version_minor": 0
      },
      "text/plain": [
       "Dropdown(description='Community', layout=Layout(width='40%'), options=('Airflow', 'Amazon', 'Asia', 'Asset cha…"
      ]
     },
     "metadata": {},
     "output_type": "display_data"
    }
   ],
   "source": [
    "# choose the collibra community where to save the new models\n",
    "widget = w(widgets.Dropdown, [f\"{k}\" for k,v in communities.items()], 'Community')"
   ]
  },
  {
   "cell_type": "code",
   "execution_count": 59,
   "metadata": {},
   "outputs": [],
   "source": [
    "communityToUpdate = communities.get(widget.value)"
   ]
  },
  {
   "cell_type": "code",
   "execution_count": 60,
   "metadata": {},
   "outputs": [],
   "source": [
    "# get all the collibra domains found under the selected community \n",
    "domains = {}\n",
    "\n",
    "response = collibra.get(\"session\").get(f\"{collibra.get('endpoint')}/domains?communityId={communityToUpdate.get('id')}&includeSubCommunities=true\")\n",
    "\n",
    "_=[x(domains, domain.get(\"name\"), domain) for domain in response.json()[\"results\"]]"
   ]
  },
  {
   "cell_type": "code",
   "execution_count": 61,
   "metadata": {},
   "outputs": [
    {
     "data": {
      "application/vnd.jupyter.widget-view+json": {
       "model_id": "04cd06ca682840b1b8e99d24df221820",
       "version_major": 2,
       "version_minor": 0
      },
      "text/plain": [
       "Dropdown(description='Domain', layout=Layout(width='40%'), options=('Artists', 'Data Products', 'Marketing Dat…"
      ]
     },
     "metadata": {},
     "output_type": "display_data"
    }
   ],
   "source": [
    "# choose the collibra domain where to save the new models\n",
    "widget = w(widgets.Dropdown, [f\"{k}\" for k,v in domains.items()], 'Domain')"
   ]
  },
  {
   "cell_type": "code",
   "execution_count": 62,
   "metadata": {},
   "outputs": [],
   "source": [
    "domainToUpdate = domains.get(widget.value)"
   ]
  },
  {
   "cell_type": "code",
   "execution_count": 63,
   "metadata": {},
   "outputs": [
    {
     "data": {
      "application/vnd.jupyter.widget-view+json": {
       "model_id": "358189dc77474baba4867a45f2d2b936",
       "version_major": 2,
       "version_minor": 0
      },
      "text/plain": [
       "Dropdown(description='Asset Type', layout=Layout(width='40%'), options=('ADLS Container', 'ADLS File System', …"
      ]
     },
     "metadata": {},
     "output_type": "display_data"
    }
   ],
   "source": [
    "# choose the collibra asset type for the new models\n",
    "widget = w(widgets.Dropdown, [f\"{k}\" for k,v in assetTypes.items()], 'Asset Type')"
   ]
  },
  {
   "cell_type": "code",
   "execution_count": 64,
   "metadata": {},
   "outputs": [],
   "source": [
    "assetTypeToSet = assetTypes.get(widget.value)"
   ]
  },
  {
   "cell_type": "code",
   "execution_count": 65,
   "metadata": {},
   "outputs": [
    {
     "data": {
      "application/vnd.jupyter.widget-view+json": {
       "model_id": "e6ee2b4bca8f49079d611a94a313214a",
       "version_major": 2,
       "version_minor": 0
      },
      "text/plain": [
       "Dropdown(description='Status', layout=Layout(width='40%'), options=('Accepted', 'Access Granted', 'Activated',…"
      ]
     },
     "metadata": {},
     "output_type": "display_data"
    }
   ],
   "source": [
    "# choose the collibra status your models should be created with\n",
    "widget = w(widgets.Dropdown, [f\"{k}\" for k,v in statuses.items()], 'Status')"
   ]
  },
  {
   "cell_type": "code",
   "execution_count": 66,
   "metadata": {},
   "outputs": [],
   "source": [
    "statusToSet = statuses.get(widget.value)"
   ]
  },
  {
   "cell_type": "code",
   "execution_count": 67,
   "metadata": {},
   "outputs": [
    {
     "data": {
      "application/vnd.jupyter.widget-view+json": {
       "model_id": "52e4602afdb34a4a8ca848b23f86aad9",
       "version_major": 2,
       "version_minor": 0
      },
      "text/plain": [
       "Dropdown(description='href', layout=Layout(width='40%'), options=('1st Decile', '1st Percentile', '1st Quartil…"
      ]
     },
     "metadata": {},
     "output_type": "display_data"
    }
   ],
   "source": [
    "# choose the collibra attribute holding the signavio model href\n",
    "widget = w(widgets.Dropdown, [f\"{k}\" for k,v in attributeTypes.items()], 'href')"
   ]
  },
  {
   "cell_type": "code",
   "execution_count": 68,
   "metadata": {},
   "outputs": [],
   "source": [
    "signavioHrefAttributeToSet = attributeTypes.get(widget.value)"
   ]
  },
  {
   "cell_type": "code",
   "execution_count": 69,
   "metadata": {},
   "outputs": [
    {
     "data": {
      "application/vnd.jupyter.widget-view+json": {
       "model_id": "a915dca4707d49c5b3a2f4768264881b",
       "version_major": 2,
       "version_minor": 0
      },
      "text/plain": [
       "Dropdown(description='Consumes Relation', layout=Layout(width='40%'), options=('Analytics Model consumes Data …"
      ]
     },
     "metadata": {},
     "output_type": "display_data"
    }
   ],
   "source": [
    "# choose the collibra relation between the process and the consuming assets\n",
    "widget = w(widgets.Dropdown, [f\"{k}\" for k,v in relationTypes.items()], 'Consumes Relation')"
   ]
  },
  {
   "cell_type": "code",
   "execution_count": 81,
   "metadata": {},
   "outputs": [],
   "source": [
    "consumesRelationToSet = relationTypes.get(widget.value)"
   ]
  },
  {
   "cell_type": "code",
   "execution_count": 82,
   "metadata": {},
   "outputs": [
    {
     "data": {
      "application/vnd.jupyter.widget-view+json": {
       "model_id": "2964772b98854072850fd1856ea33104",
       "version_major": 2,
       "version_minor": 0
      },
      "text/plain": [
       "Dropdown(description='Produces Relation', layout=Layout(width='40%'), options=('Analytics Model consumes Data …"
      ]
     },
     "metadata": {},
     "output_type": "display_data"
    }
   ],
   "source": [
    "# choose the collibra relation between the process and the producing assets\n",
    "widget = w(widgets.Dropdown, [f\"{k}\" for k,v in relationTypes.items()], 'Produces Relation')"
   ]
  },
  {
   "cell_type": "code",
   "execution_count": 84,
   "metadata": {},
   "outputs": [],
   "source": [
    "producesRelationToSet = relationTypes.get(widget.value)"
   ]
  },
  {
   "cell_type": "code",
   "execution_count": 85,
   "metadata": {},
   "outputs": [
    {
     "data": {
      "application/vnd.jupyter.widget-view+json": {
       "model_id": "93362b9ae6a2451aae2811daf4f71d4b",
       "version_major": 2,
       "version_minor": 0
      },
      "text/plain": [
       "Dropdown(description='Uses Relation', layout=Layout(width='40%'), options=('Analytics Model consumes Data Set'…"
      ]
     },
     "metadata": {},
     "output_type": "display_data"
    }
   ],
   "source": [
    "# choose the collibra relation between the process and the used assets\n",
    "widget = w(widgets.Dropdown, [f\"{k}\" for k,v in relationTypes.items()], 'Uses Relation')"
   ]
  },
  {
   "cell_type": "code",
   "execution_count": 86,
   "metadata": {},
   "outputs": [],
   "source": [
    "usesRelationToSet = relationTypes.get(widget.value)"
   ]
  },
  {
   "cell_type": "code",
   "execution_count": 87,
   "metadata": {},
   "outputs": [
    {
     "data": {
      "application/vnd.jupyter.widget-view+json": {
       "model_id": "afc558750ba14686aed0dfb60fe40b2b",
       "version_major": 2,
       "version_minor": 0
      },
      "text/plain": [
       "Dropdown(description='Runs Relation', layout=Layout(width='40%'), options=('Analytics Model consumes Data Set'…"
      ]
     },
     "metadata": {},
     "output_type": "display_data"
    }
   ],
   "source": [
    "# choose the collibra relation between the process and run processes\n",
    "widget = w(widgets.Dropdown, [f\"{k}\" for k,v in relationTypes.items()], 'Runs Relation')"
   ]
  },
  {
   "cell_type": "code",
   "execution_count": 88,
   "metadata": {},
   "outputs": [],
   "source": [
    "runsRelationToSet = relationTypes.get(widget.value)"
   ]
  },
  {
   "cell_type": "code",
   "execution_count": 97,
   "metadata": {},
   "outputs": [],
   "source": [
    "# get all the collibra assets found for the given models list\n",
    "assets = [getAssets(collibra, [assetTypeToSet], [model.get(\"rep\").get(\"name\")], signavioHrefAttributeToSet.get(\"id\"))  for model in modelsToUpsert]"
   ]
  },
  {
   "cell_type": "code",
   "execution_count": 98,
   "metadata": {},
   "outputs": [],
   "source": [
    "# create all new collibra assets under the selected domain \n",
    "def p(model, assetId, assetType, assetStatus, assetDomain):   \n",
    "    return {\"id\": assetId, \"name\": model.get(\"rep\").get(\"name\"), \"displayName\": model.get(\"rep\").get(\"name\"), \"typeId\": assetType.get(\"id\"), \"statusId\": assetStatus.get(\"id\"), \"domainId\": assetDomain.get(\"id\"), \"href\": \"/\".join(model.get(\"href\").split('/')[0:-1])}\n",
    "\n",
    "assetsToCreate = []\n",
    "\n",
    "assetsToUpdate = []\n",
    "\n",
    "_=[assetsToUpdate.append(p(modelsToUpsert[i], asset[0].get(\"assetId\"), assetTypeToSet, statusToSet, domainToUpdate)) if asset else assetsToCreate.append(p(modelsToUpsert[i], None, assetTypeToSet, statusToSet, domainToUpdate)) for i, asset in enumerate(assets)]\n",
    "\n",
    "response = collibra.get(\"session\").post(f\"{collibra.get('endpoint')}/assets/bulk\", json=assetsToCreate)\n",
    "\n",
    "_=[assetsToCreate[i].update({\"id\": asset.get(\"id\")}) for i, asset in enumerate(response.json())]\n",
    "\n",
    "assetsToUpdate.extend(assetsToCreate)"
   ]
  },
  {
   "cell_type": "code",
   "execution_count": 99,
   "metadata": {},
   "outputs": [],
   "source": [
    "# update the model in signavio with the collibra asset id and type, new revision\n",
    "def p(asset, assetHost, modelUuid, modelType, modelHref): \n",
    "    href = {\"label\": \"\", \"url\": f\"{assetHost}/asset/{asset.get('id')}\"}\n",
    "\n",
    "    return {modelUuid.get(\"rep\").get(\"id\"): asset.get(\"id\"), modelType.get(\"rep\").get(\"id\"): asset.get(\"typeId\"), modelHref.get(\"rep\").get(\"id\"): href}\n",
    "\n",
    "_=[asset.update({\"info\": getModelInfo(signavio, asset.get(\"href\"))}) for asset in assetsToUpdate]\n",
    "\n",
    "_=[asset.update({\"json\": getModelJson(signavio, asset.get(\"href\"))}) for asset in assetsToUpdate]\n",
    "\n",
    "_=[asset.get(\"json\").get(\"properties\").update(p(asset, collibra.get('host'), uuidAttributeToSet, typeAttributeToSet, hrefAttributeToSet)) for asset in assetsToUpdate]\n",
    "\n",
    "responses = [updateModel(signavio, asset) for asset in assetsToUpdate]"
   ]
  },
  {
   "cell_type": "code",
   "execution_count": 100,
   "metadata": {},
   "outputs": [],
   "source": [
    "# not needed anymore, remove\n",
    "_=[asset.pop(\"info\") for asset in assetsToUpdate if \"info\" in asset]\n",
    "\n",
    "_=[asset.pop(\"json\") for asset in assetsToUpdate if \"json\" in asset]"
   ]
  },
  {
   "cell_type": "code",
   "execution_count": 128,
   "metadata": {},
   "outputs": [],
   "source": [
    "# transform\n",
    "assets = {}\n",
    "\n",
    "_=[x(assets, asset.get(\"name\"), asset) for asset in assetsToUpdate]"
   ]
  },
  {
   "cell_type": "code",
   "execution_count": 102,
   "metadata": {},
   "outputs": [],
   "source": [
    "# update all collibra assets attributes in scope\n",
    "def p(asset, attributeType, attributeValue): \n",
    "     return {\"assetId\": asset.get(\"id\"), \"typeId\": attributeType.get(\"id\"), \"values\": [attributeValue]}\n",
    "\n",
    "attributesInScope = {\"href\": \"Signavio href\", \"parent\": \"Parent Folder\", \"parentName\": \"Parent Folder Name\", \"description\": \"Description\", \"isDeployed\": \"Deployed\", \"rev\": \"Revision\", \"author\": \"Author\", \"authorName\": \"Author Name\", \"approve\": \"Approved\", \"publish\": \"Published\"}\n",
    "\n",
    "payloads = [p(assets.get(model.get(\"rep\").get(\"name\")), attributeTypes.get(attributesInScope[\"href\"]), \"/\".join(model.get(\"href\").split('/')[0:-1])) for model in modelsToUpsert] \n",
    "\n",
    "payloads.extend([p(assets.get(model.get(\"rep\").get(\"name\")), attributeTypes.get(attributesInScope[k]), v) for model in modelsToUpsert for k,v in model.get(\"rep\").items() if k in attributesInScope])\n",
    "\n",
    "payloads.extend([p(assets.get(x.get(\"rep\").get(\"name\")), attributeTypes.get(attributesInScope[k]), v) for x in modelsToUpsert for k,v in x.get(\"rep\").get(\"status\").items() if k in attributesInScope])\n",
    "\n",
    "responses = [collibra.get(\"session\").put(f\"{collibra.get('endpoint')}/assets/{payload.get('assetId')}/attributes\", json=payload).json() for payload in payloads]"
   ]
  },
  {
   "cell_type": "code",
   "execution_count": 104,
   "metadata": {},
   "outputs": [],
   "source": [
    "# create all the business process consumes business asset relations\n",
    "def p(sourceUuid, targetUuid, relationType): \n",
    "    return {'sourceId': sourceUuid, 'targetId': targetUuid, 'typeId': relationType.get(\"id\")}\n",
    " \n",
    "entries = [{model.get(\"rep\").get(\"name\"): model.get(\"properties\").get(consumesAttributeToGet.get(\"rep\").get(\"id\"))} for model in modelsToUpsert]\n",
    "\n",
    "consumesAssets = [{assets.get(k).get(\"id\"): getEntry(signavio, i).get(\"metaDataValues\").get(uuidAttributeToSet.get(\"rep\").get(\"id\"))} for model in entries for k,v in model.items() if v is not None for i in v ]\n",
    "\n",
    "payloads = [p(k,v, consumesRelationToSet) for x in consumesAssets for k,v in x.items()]\n",
    "\n",
    "responses = [collibra.get(\"session\").post(f\"{collibra.get('endpoint')}/relations\", json=payload).json() for payload in payloads]"
   ]
  },
  {
   "cell_type": "code",
   "execution_count": 106,
   "metadata": {},
   "outputs": [],
   "source": [
    "# create all the business process produces business asset relations\n",
    "entries = [{model.get(\"rep\").get(\"name\"): model.get(\"properties\").get(producesAttributeToGet.get(\"rep\").get(\"id\"))} for model in modelsToUpsert]\n",
    "\n",
    "producesAssets = [{assets.get(k).get(\"id\"): getEntry(signavio, i).get(\"metaDataValues\").get(uuidAttributeToSet.get(\"rep\").get(\"id\"))} for model in entries for k,v in model.items() if v is not None for i in v ]\n",
    "\n",
    "payloads = [p(k,v, producesRelationToSet) for x in producesAssets for k,v in x.items()]\n",
    "\n",
    "responses = [collibra.get(\"session\").post(f\"{collibra.get('endpoint')}/relations\", json=payload).json() for payload in payloads]"
   ]
  },
  {
   "cell_type": "code",
   "execution_count": 108,
   "metadata": {},
   "outputs": [],
   "source": [
    "# create all the business process uses business asset relations\n",
    "usesAssets = [{assets.get(model.get(\"rep\").get(\"name\")).get(\"id\"): document.get(\"rep\").get(\"metaDataValues\").get(uuidAttributeToSet.get(\"rep\").get(\"id\"))} for model in modelsToUpsert  for document in model.get(\"dictionary\") if document.get(\"rep\").get(\"categoryName\") == categoryToGet.get(\"rep\").get(\"name\")]\n",
    "\n",
    "payloads = [p(k,v, usesRelationToSet) for x in usesAssets for k,v in x.items()]\n",
    "\n",
    "responses = [collibra.get(\"session\").post(f\"{collibra.get('endpoint')}/relations\", json=payload).json() for payload in payloads]"
   ]
  },
  {
   "cell_type": "code",
   "execution_count": 110,
   "metadata": {},
   "outputs": [],
   "source": [
    "# upload all png attachments to the correspondent collibra assets\n",
    "pngs = [save(collibra, assets.get(x.get(\"rep\").get(\"name\")).get(\"id\"), x.get(\"png\"), \"png\") for x in modelsToUpsert]"
   ]
  },
  {
   "cell_type": "code",
   "execution_count": 111,
   "metadata": {},
   "outputs": [],
   "source": [
    "# upload all svg attachments to the correspondent collibra assets\n",
    "svgs = [save(collibra, assets.get(x.get(\"rep\").get(\"name\")).get(\"id\"), x.get(\"svg\"), \"svg\") for x in modelsToUpsert]"
   ]
  },
  {
   "cell_type": "code",
   "execution_count": 112,
   "metadata": {},
   "outputs": [],
   "source": [
    "# update all collibra assets report image attribute with the svg\n",
    "def p(asset, attributeType, attributeValue): \n",
    "     return {\"assetId\": asset.get(\"id\"), \"typeId\": attributeType.get(\"id\"), \"values\": [f\"<img src='/rest/2.0/attachments/{attributeValue.get('id')}/file'>\"]}\n",
    "\n",
    "payloads = [p(svg.get(\"baseResource\"), attributeTypes.get(\"Report Image\"), svg) for svg in svgs] \n",
    "\n",
    "responses = [collibra.get(\"session\").put(f\"{collibra.get('endpoint')}/assets/{payload.get('assetId')}/attributes\", json=payload).json() for payload in payloads]"
   ]
  },
  {
   "cell_type": "code",
   "execution_count": 137,
   "metadata": {},
   "outputs": [],
   "source": [
    "# create all the business process runs business process relations\n",
    "def p(sourceUuid, targetUuid, relationType): \n",
    "    return {'sourceId': sourceUuid, 'targetId': targetUuid, 'typeId': relationType.get(\"id\")}\n",
    "\n",
    "\n",
    "modelsToGet = [{link.get(\"rep\").get(\"name\"): assets.get(link.get(\"rep\").get(\"name\"))} for model in modelsToUpsert for link in model[\"links\"] if isModelValid(link, modelType=[\"Business Process Diagram (BPMN 2.0)\"]) and assets.get(link.get(\"rep\").get(\"name\")) is None]\n",
    "\n",
    "assetsToAdd = [getAssets(collibra, [assetTypeToSet], [k], signavioHrefAttributeToSet.get(\"id\")) for model in modelsToGet for k,v in model.items()]\n",
    "\n",
    "_=[assets.update({asset[0].get(\"assetName\"): {\"id\": asset[0].get(\"assetId\"), \"name\": asset[0].get(\"assetName\")}}) for asset in assetsToAdd]\n",
    "\n",
    "payloads = [p(assets.get(model.get(\"rep\").get(\"name\")).get(\"id\"), assets.get(link.get(\"rep\").get(\"name\")).get(\"id\"), runsRelationToSet) for model in modelsToUpsert for link in model[\"links\"] if isModelValid(link, modelType=[\"Business Process Diagram (BPMN 2.0)\"])]\n",
    "\n",
    "responses = [collibra.get(\"session\").post(f\"{collibra.get('endpoint')}/relations\", json=payload).json() for payload in payloads]"
   ]
  },
  {
   "cell_type": "code",
   "execution_count": null,
   "metadata": {},
   "outputs": [],
   "source": [
    "#done"
   ]
  }
 ],
 "metadata": {
  "kernelspec": {
   "display_name": "Python 3 (ipykernel)",
   "language": "python",
   "name": "python3"
  },
  "language_info": {
   "codemirror_mode": {
    "name": "ipython",
    "version": 3
   },
   "file_extension": ".py",
   "mimetype": "text/x-python",
   "name": "python",
   "nbconvert_exporter": "python",
   "pygments_lexer": "ipython3",
   "version": "3.9.13"
  }
 },
 "nbformat": 4,
 "nbformat_minor": 2
}
