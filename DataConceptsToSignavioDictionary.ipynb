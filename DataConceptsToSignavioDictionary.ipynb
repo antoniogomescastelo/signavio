{
 "cells": [
  {
   "cell_type": "code",
   "execution_count": 45,
   "metadata": {},
   "outputs": [],
   "source": [
    "import requests\n",
    "from requests.auth import HTTPBasicAuth\n",
    "import ipywidgets as widgets\n",
    "import pandas as pd"
   ]
  },
  {
   "cell_type": "code",
   "execution_count": 46,
   "metadata": {},
   "outputs": [],
   "source": [
    "# change\n",
    "def x(l, k, v): l[k] = v"
   ]
  },
  {
   "cell_type": "code",
   "execution_count": 47,
   "metadata": {},
   "outputs": [],
   "source": [
    "# selection widget\n",
    "def w(w, o, n): v = w(options=sorted(o), description=n, layout=widgets.Layout(width='40%')); display(v); return v"
   ]
  },
  {
   "cell_type": "code",
   "execution_count": 48,
   "metadata": {},
   "outputs": [],
   "source": [
    "# is custom attribute being used by dictionary category\n",
    "def isCustomAttributeValid(attribute, category):\n",
    "    try:\n",
    "        return len([binding for binding in attribute.get(\"rep\").get(\"glossaryBindings\") if binding.get(\"category\") == category])>0\n",
    "        \n",
    "    except Exception as e:\n",
    "        return False"
   ]
  },
  {
   "cell_type": "code",
   "execution_count": 49,
   "metadata": {},
   "outputs": [],
   "source": [
    "# get all custom attributes defined in the dictionary \n",
    "def getattributes(signavio):\n",
    "    url = f\"{signavio.get('host')}/p/meta\"\n",
    "\n",
    "    headers = {\"x-signavio-id\": signavio.get(\"authToken\"), \"accept\":\"application/json\"}\n",
    "\n",
    "    cookies = {\"JSESSIONID\": signavio.get(\"jsessionId\"), \"LBROUTEID\": signavio.get(\"lbrouteId\")}\n",
    "\n",
    "    request = requests.get(url, headers=headers, cookies=cookies)\n",
    "\n",
    "    return request.json()"
   ]
  },
  {
   "cell_type": "code",
   "execution_count": 50,
   "metadata": {},
   "outputs": [],
   "source": [
    "# get all dictionary categories found in the dictionary\n",
    "def getcategories(signavio):\n",
    "    url = f\"{signavio.get('host')}/p/glossarycategory?allCategories=true\"\n",
    "\n",
    "    headers = {\"x-signavio-id\": signavio.get(\"authToken\"), \"accept\":\"application/json\"}\n",
    "\n",
    "    cookies = {\"JSESSIONID\": signavio.get(\"jsessionId\"), \"LBROUTEID\": signavio.get(\"lbrouteId\")}\n",
    "\n",
    "    request = requests.get(url, headers=headers, cookies=cookies)\n",
    "\n",
    "    return request.json()"
   ]
  },
  {
   "cell_type": "code",
   "execution_count": 51,
   "metadata": {},
   "outputs": [],
   "source": [
    "# add a dictionary entry with a given name and category\n",
    "def addEntry(signavio, category, uuidAttribute, typeAttribute, hrefAttribute, collibra, asset):\n",
    "    url = f\"{signavio.get('host')}/p/glossary\"\n",
    "\n",
    "    headers = {\"x-signavio-id\": signavio.get(\"authToken\"), \"accept\":\"application/json\", 'content-type': 'application/x-www-form-urlencoded'}\n",
    "\n",
    "    cookies = {\"JSESSIONID\": signavio.get(\"jsessionId\"), \"LBROUTEID\": signavio.get(\"lbrouteId\")}\n",
    "\n",
    "    metaDataValues= f\"{{\\\"{uuidAttribute.get('rep').get('id')}\\\":\\\"{asset.get('id')}\\\", \\\"{typeAttribute.get('rep').get('id')}\\\":\\\"{asset.get('assetType')[0].get('assetTypeId')}\\\", \\\"{hrefAttribute.get('rep').get('id')}\\\":{{\\\"label\\\":\\\"\\\", \\\"url\\\":\\\"{collibra.get('host')}/asset/{asset.get('id')}\\\"}}}}\"\n",
    "    \n",
    "    payload = f\"title={asset.get('name')}&category={category.get('href').split('/')[-1]}&description={asset.get('description')[0].get('descriptionAttributeValue') if 'description' in asset else ''}&metaDataValues={metaDataValues}\"\n",
    "    \n",
    "    request = requests.post(url, headers=headers, cookies=cookies, data=payload)\n",
    "\n",
    "    return request.json()"
   ]
  },
  {
   "cell_type": "code",
   "execution_count": 52,
   "metadata": {},
   "outputs": [],
   "source": [
    "# update a dictionary entry with a given name and category\n",
    "def updateEntry(signavio, category, uuidAttribute, typeAttribute, hrefAttribute, collibra, asset):\n",
    "    url = f\"{signavio.get('host')}/p/glossary/{asset.get('href')[0].get('hrefAttributeValue').split('/')[-1]}/info\"\n",
    "\n",
    "    headers = {\"x-signavio-id\": signavio.get(\"authToken\"), \"accept\":\"application/json\", 'content-type': 'application/x-www-form-urlencoded'}\n",
    "\n",
    "    cookies = {\"JSESSIONID\": signavio.get(\"jsessionId\"), \"LBROUTEID\": signavio.get(\"lbrouteId\")}\n",
    "\n",
    "    metaDataValues= f\"{{\\\"{uuidAttribute.get('rep').get('id')}\\\":\\\"{asset.get('id')}\\\", \\\"{typeAttribute.get('rep').get('id')}\\\":\\\"{asset.get('assetType')[0].get('assetTypeId')}\\\", \\\"{hrefAttribute.get('rep').get('id')}\\\":{{\\\"label\\\":\\\"\\\", \\\"url\\\":\\\"{collibra.get('host')}/asset/{asset.get('id')}\\\"}}}}\"\n",
    "\n",
    "    payload = f\"title={asset.get('name')}&category={category.get('href').split('/')[-1]}&description={asset.get('description')[0].get('descriptionAttributeValue') if 'description' in asset else ''}&metaDataValues={metaDataValues}\"\n",
    "    \n",
    "    request = requests.put(url, headers=headers, cookies=cookies, data=payload)\n",
    "\n",
    "    return request.json()"
   ]
  },
  {
   "cell_type": "code",
   "execution_count": 53,
   "metadata": {},
   "outputs": [],
   "source": [
    "# get assets of type and status from a given community\n",
    "def getAssets(collibra, communities, assetTypes, statuses, hrefAttributeType):\n",
    "    viewConfig = {\n",
    "        \"ViewConfig\": {\n",
    "            \"maxCountLimit\": \"-1\",\n",
    "            \"Resources\": {\n",
    "                \"Asset\": {\n",
    "                    \"name\": \"Assets\",\n",
    "                    \"Signifier\": {\n",
    "                        \"name\": \"name\"\n",
    "                    },\n",
    "                    \"Id\": {\n",
    "                        \"name\": \"id\"\n",
    "                    },\n",
    "                    \"AssetType\": {\n",
    "                        \"name\": \"assetType\",\n",
    "                        \"Id\": {\n",
    "                            \"name\": \"assetTypeId\"\n",
    "                        }\n",
    "                    },\n",
    "                    \"Status\": {\n",
    "                        \"name\": \"assetStatus\",\n",
    "                        \"Id\": {\n",
    "                            \"name\": \"assetStatusId\"\n",
    "                        }\n",
    "                    },\n",
    "                    \"Domain\": {\n",
    "                        \"name\": \"assetDomain\",\n",
    "                        \"Id\": {\n",
    "                            \"name\": \"assetDomainId\"\n",
    "                        },\n",
    "                        \"Community\": {\n",
    "                            \"name\": \"assetCommunity\",\n",
    "                            \"Id\": {\n",
    "                                \"name\": \"assetCommunityId\"\n",
    "                            }\n",
    "                        }\n",
    "                    },\n",
    "                    \"StringAttribute\": [\n",
    "                        {\n",
    "                            \"name\": \"description\",\n",
    "                            \"labelId\": \"00000000-0000-0000-0000-000000003114\",\n",
    "                            \"Id\": {\n",
    "                                \"name\": \"descriptionAttributeId\"\n",
    "                            },\n",
    "                            \"LongExpression\": {\n",
    "                                \"name\": \"descriptionAttributeValue\"\n",
    "                            }\n",
    "                        },\n",
    "                        {\n",
    "                            \"name\": \"href\",\n",
    "                            \"labelId\": hrefAttributeType,\n",
    "                            \"Id\": {\n",
    "                                \"name\": \"hrefAttributeId\"\n",
    "                            },\n",
    "                            \"LongExpression\": {\n",
    "                                \"name\": \"hrefAttributeValue\"\n",
    "                            }\n",
    "                        }  \n",
    "                    ],\n",
    "                    \"Filter\": {\n",
    "                        \"AND\": [\n",
    "                            {\n",
    "                                \"Field\": {\n",
    "                                    \"name\": \"assetCommunityId\",\n",
    "                                    \"operator\": \"IN\", \n",
    "                                    \"values\": [community.get(\"id\") for community in communities],\n",
    "                                    \"descendants\": \"true\"\n",
    "                                }                                \n",
    "                            },\n",
    "                            {\n",
    "                                \"Field\": {\n",
    "                                    \"name\": \"assetTypeId\",\n",
    "                                    \"operator\": \"IN\", \n",
    "                                    \"values\": [assetType.get(\"id\") for assetType in assetTypes]\n",
    "                                }                                \n",
    "                            },\n",
    "                            {\n",
    "                                \"Field\": {\n",
    "                                    \"name\": \"assetStatusId\",\n",
    "                                    \"operator\": \"IN\",\n",
    "                                    \"value\": [status.get(\"id\") for status in statuses]\n",
    "                                }\n",
    "                            }\n",
    "                        ]\n",
    "                    }              \n",
    "                }\n",
    "            }\n",
    "        }\n",
    "    }\n",
    " \n",
    "    response = collibra.get(\"session\").post(f\"{collibra.get('endpoint')}/outputModule/export/json?validationEnabled=false\", json=viewConfig)\n",
    "\n",
    "    return response.json().get(\"view\").get(\"Assets\")"
   ]
  },
  {
   "cell_type": "code",
   "execution_count": 54,
   "metadata": {},
   "outputs": [],
   "source": [
    "# credentials\n",
    "collibra = {\"host\": \"https://print.collibra.com\", \"username\": \"[username]\", \"password\": \"[password]\"}\n",
    "\n",
    "collibra[\"endpoint\"] = f\"{collibra['host']}/rest/2.0\""
   ]
  },
  {
   "cell_type": "code",
   "execution_count": 55,
   "metadata": {},
   "outputs": [],
   "source": [
    "# connect to collibra \n",
    "collibra[\"session\"] = requests.Session()\n",
    "\n",
    "collibra.get(\"session\").auth = HTTPBasicAuth(collibra.get(\"username\"), collibra.get(\"password\"))"
   ]
  },
  {
   "cell_type": "code",
   "execution_count": 56,
   "metadata": {},
   "outputs": [],
   "source": [
    "# get collibra asset types\n",
    "assetTypes = {}\n",
    "\n",
    "response = collibra.get(\"session\").get(f\"{collibra.get('endpoint')}/assetTypes\")\n",
    "\n",
    "_=[x(assetTypes, assetType.get(\"name\"), assetType) for assetType in response.json()[\"results\"]] "
   ]
  },
  {
   "cell_type": "code",
   "execution_count": 57,
   "metadata": {},
   "outputs": [],
   "source": [
    "# get collibra attribute types\n",
    "attributeTypes = {}\n",
    "\n",
    "response = collibra.get(\"session\").get(f\"{collibra.get('endpoint')}/attributeTypes\")\n",
    "\n",
    "_=[x(attributeTypes, attributeType.get(\"name\"), attributeType) for attributeType in response.json()[\"results\"]]"
   ]
  },
  {
   "cell_type": "code",
   "execution_count": 58,
   "metadata": {},
   "outputs": [],
   "source": [
    "# get collibra statuses types\n",
    "statuses = {}\n",
    "\n",
    "response = collibra.get(\"session\").get(f\"{collibra.get('endpoint')}/statuses\")\n",
    "\n",
    "_=[x(statuses, status.get(\"name\"), status) for status in response.json()[\"results\"]]"
   ]
  },
  {
   "cell_type": "code",
   "execution_count": 59,
   "metadata": {},
   "outputs": [],
   "source": [
    "# get collibra communities\n",
    "communities = {}\n",
    "\n",
    "response = collibra.get(\"session\").get(f\"{collibra.get('endpoint')}/communities\")\n",
    "\n",
    "_=[x(communities, community.get(\"name\"), community) for community in response.json()[\"results\"]]"
   ]
  },
  {
   "cell_type": "code",
   "execution_count": 60,
   "metadata": {},
   "outputs": [
    {
     "data": {
      "application/vnd.jupyter.widget-view+json": {
       "model_id": "aad2aa4ad71a4e549866e7f2d5522099",
       "version_major": 2,
       "version_minor": 0
      },
      "text/plain": [
       "SelectMultiple(description='Communities', layout=Layout(width='40%'), options=('Airflow', 'Amazon', 'Asia', 'A…"
      ]
     },
     "metadata": {},
     "output_type": "display_data"
    }
   ],
   "source": [
    "# choose collibra communities to query\n",
    "widget = w(widgets.SelectMultiple, [f\"{k}\" for k,v in communities.items()], 'Communities')"
   ]
  },
  {
   "cell_type": "code",
   "execution_count": 61,
   "metadata": {},
   "outputs": [],
   "source": [
    "communitiesToQuery = [communities.get(community) for community in widget.value]"
   ]
  },
  {
   "cell_type": "code",
   "execution_count": 62,
   "metadata": {},
   "outputs": [
    {
     "data": {
      "application/vnd.jupyter.widget-view+json": {
       "model_id": "7285e0455a2b468cb0562701c0d930ce",
       "version_major": 2,
       "version_minor": 0
      },
      "text/plain": [
       "SelectMultiple(description='Asset Types', layout=Layout(width='40%'), options=('ADLS Container', 'ADLS File Sy…"
      ]
     },
     "metadata": {},
     "output_type": "display_data"
    }
   ],
   "source": [
    "# choose the collibra asset types to list\n",
    "widget = w(widgets.SelectMultiple, [f\"{k}\" for k,v in assetTypes.items()], 'Asset Types')"
   ]
  },
  {
   "cell_type": "code",
   "execution_count": 63,
   "metadata": {},
   "outputs": [],
   "source": [
    "assetTypesToList = [assetTypes.get(assetType) for assetType in widget.value]"
   ]
  },
  {
   "cell_type": "code",
   "execution_count": 64,
   "metadata": {},
   "outputs": [
    {
     "data": {
      "application/vnd.jupyter.widget-view+json": {
       "model_id": "62d37f7a1b234a1cb9e8b4453a996420",
       "version_major": 2,
       "version_minor": 0
      },
      "text/plain": [
       "SelectMultiple(description='Status Types', layout=Layout(width='40%'), options=('Accepted', 'Access Granted', …"
      ]
     },
     "metadata": {},
     "output_type": "display_data"
    }
   ],
   "source": [
    "# choose the collibra status types to include\n",
    "widget = w(widgets.SelectMultiple, [f\"{k}\" for k,v in statuses.items()], 'Status Types')"
   ]
  },
  {
   "cell_type": "code",
   "execution_count": 65,
   "metadata": {},
   "outputs": [],
   "source": [
    "statusesToGet = [statuses.get(statusType) for statusType in widget.value]"
   ]
  },
  {
   "cell_type": "code",
   "execution_count": 66,
   "metadata": {},
   "outputs": [
    {
     "data": {
      "application/vnd.jupyter.widget-view+json": {
       "model_id": "6e082230a7bc46ffbbe5d5f46698e611",
       "version_major": 2,
       "version_minor": 0
      },
      "text/plain": [
       "Dropdown(description='Attribute Type', layout=Layout(width='40%'), options=('1st Decile', '1st Percentile', '1…"
      ]
     },
     "metadata": {},
     "output_type": "display_data"
    }
   ],
   "source": [
    "# choose the collibra attribute holding href\n",
    "widget = w(widgets.Dropdown, [f\"{k}\" for k,v in attributeTypes.items()], 'Attribute Type')"
   ]
  },
  {
   "cell_type": "code",
   "execution_count": 67,
   "metadata": {},
   "outputs": [],
   "source": [
    "attributeTypeToSet = attributeTypes.get(widget.value)"
   ]
  },
  {
   "cell_type": "code",
   "execution_count": 68,
   "metadata": {},
   "outputs": [],
   "source": [
    "# credentials\n",
    "signavio = {\"host\": \"https://editor.signavio.com\", \"tenant\": \"93ab506a8d87439f9fbb680fdbc95d4b\", \"username\": \"antonio.castelo@collibra.com\", \"password\": \"[password]\"}"
   ]
  },
  {
   "cell_type": "code",
   "execution_count": 69,
   "metadata": {},
   "outputs": [],
   "source": [
    "# connect to signavio \n",
    "url = f\"{signavio.get('host')}/p/login\"\n",
    "\n",
    "data = {\"name\": signavio.get(\"username\"), \"password\": signavio.get(\"password\"), \"tenant\": signavio.get(\"tenant\"), \"tokenonly\": \"true\"}\n",
    "\n",
    "request = requests.post(url, data)\n",
    "\n",
    "authToken = request.content.decode(\"utf-8\")\n",
    "\n",
    "jsessionId = request.cookies.get(\"JSESSIONID\")\n",
    "\n",
    "lbrouteId = request.cookies.get(\"LBROUTEID\")\n",
    "\n",
    "signavio = {\"host\": signavio.get(\"host\"), \"tenant\": signavio.get(\"tenant\"), \"authToken\": authToken, \"jsessionId\": jsessionId, \"lbrouteId\": lbrouteId}"
   ]
  },
  {
   "cell_type": "code",
   "execution_count": 70,
   "metadata": {},
   "outputs": [],
   "source": [
    "# get all signavio dictionary categories\n",
    "categories = {}\n",
    "\n",
    "_=[x(categories, category.get(\"rep\").get(\"name\"), category) for category in getcategories(signavio) if category.get(\"rel\") == \"cat\"]"
   ]
  },
  {
   "cell_type": "code",
   "execution_count": 71,
   "metadata": {},
   "outputs": [
    {
     "data": {
      "application/vnd.jupyter.widget-view+json": {
       "model_id": "bfc3f0dcd224459397778823002c5e28",
       "version_major": 2,
       "version_minor": 0
      },
      "text/plain": [
       "Dropdown(description='Category', layout=Layout(width='40%'), options=('Activities', 'Controls', 'Data Concepts…"
      ]
     },
     "metadata": {},
     "output_type": "display_data"
    }
   ],
   "source": [
    "# choose the signavio dictionary category to map\n",
    "widget = w(widgets.Dropdown, [f\"{k}\" for k,v in categories.items()], 'Category')"
   ]
  },
  {
   "cell_type": "code",
   "execution_count": 72,
   "metadata": {},
   "outputs": [],
   "source": [
    "categoryToUpdate = categories.get(widget.value)"
   ]
  },
  {
   "cell_type": "code",
   "execution_count": 32,
   "metadata": {},
   "outputs": [],
   "source": [
    "# get the custom attributes used by the signavio category \n",
    "attributes = {}\n",
    "\n",
    "_=[x(attributes, attribute.get(\"rep\").get(\"name\"), attribute) for attribute in getattributes(signavio) if isCustomAttributeValid(attribute, categoryToUpdate.get(\"href\").split(\"/\")[-1])]"
   ]
  },
  {
   "cell_type": "code",
   "execution_count": 33,
   "metadata": {},
   "outputs": [
    {
     "data": {
      "application/vnd.jupyter.widget-view+json": {
       "model_id": "15966bf846cc496eb550bf43e297a1e6",
       "version_major": 2,
       "version_minor": 0
      },
      "text/plain": [
       "Dropdown(description='Asset Uuid', layout=Layout(width='40%'), options=('href', 'id', 'typeId'), value='href')"
      ]
     },
     "metadata": {},
     "output_type": "display_data"
    }
   ],
   "source": [
    "# choose the custom attribute which will hold the collibra asset id\n",
    "widget = w(widgets.Dropdown, [f\"{k}\" for k,v in attributes.items()], 'Asset Uuid')"
   ]
  },
  {
   "cell_type": "code",
   "execution_count": 34,
   "metadata": {},
   "outputs": [],
   "source": [
    "uuidAttributeToSet = attributes.get(widget.value)"
   ]
  },
  {
   "cell_type": "code",
   "execution_count": 35,
   "metadata": {},
   "outputs": [
    {
     "data": {
      "application/vnd.jupyter.widget-view+json": {
       "model_id": "985e3b8c1de94b3a9a99887334009f6d",
       "version_major": 2,
       "version_minor": 0
      },
      "text/plain": [
       "Dropdown(description='Type Uuid', layout=Layout(width='40%'), options=('href', 'id', 'typeId'), value='href')"
      ]
     },
     "metadata": {},
     "output_type": "display_data"
    }
   ],
   "source": [
    "# choose the custom attribute which will hold the collibra asset type id\n",
    "widget = w(widgets.Dropdown, [f\"{k}\" for k,v in attributes.items()], 'Type Uuid')"
   ]
  },
  {
   "cell_type": "code",
   "execution_count": 36,
   "metadata": {},
   "outputs": [],
   "source": [
    "typeAttributeToSet = attributes.get(widget.value)"
   ]
  },
  {
   "cell_type": "code",
   "execution_count": 38,
   "metadata": {},
   "outputs": [
    {
     "data": {
      "application/vnd.jupyter.widget-view+json": {
       "model_id": "a2e880767bc24351b7fe507e7c772533",
       "version_major": 2,
       "version_minor": 0
      },
      "text/plain": [
       "Dropdown(description='Asset href', layout=Layout(width='40%'), options=('href', 'id', 'typeId'), value='href')"
      ]
     },
     "metadata": {},
     "output_type": "display_data"
    }
   ],
   "source": [
    "# choose the custom attribute which will hold the collibra asset url ref\n",
    "widget = w(widgets.Dropdown, [f\"{k}\" for k,v in attributes.items()], 'Asset href')"
   ]
  },
  {
   "cell_type": "code",
   "execution_count": 39,
   "metadata": {},
   "outputs": [],
   "source": [
    "hrefAttributeToSet = attributes.get(widget.value)"
   ]
  },
  {
   "cell_type": "code",
   "execution_count": 40,
   "metadata": {},
   "outputs": [],
   "source": [
    "# get all collibra assets of a given list of asset types and statuses found within a list of communities\n",
    "assetsToCreate = []\n",
    "\n",
    "assetsToUpdate = []\n",
    "\n",
    "_=[assetsToUpdate.append(asset) if \"href\" in asset else assetsToCreate.append(asset) for asset in getAssets(collibra, communitiesToQuery, assetTypesToList, statusesToGet, attributeTypeToSet.get(\"id\"))]"
   ]
  },
  {
   "cell_type": "code",
   "execution_count": 41,
   "metadata": {},
   "outputs": [],
   "source": [
    "# create dictionary items when no href attribute set is found, list dictionary items which fail to create\n",
    "entriesCreated = [addEntry(signavio, categoryToUpdate, uuidAttributeToSet, typeAttributeToSet, hrefAttributeToSet, collibra, asset) for asset in assetsToCreate]\n",
    "\n",
    "entriesThatFailed = [entry for entry in entriesCreated if 'errors' in entry]\n",
    "\n",
    "df = pd.DataFrame([[entry.get(\"categoryNames\"), entry.get(\"title\"), entry.get(\"message\")] for entry in entriesThatFailed], columns =['category', 'title', 'error'])\n",
    "\n",
    "if not df.empty: display(df)"
   ]
  },
  {
   "cell_type": "code",
   "execution_count": 42,
   "metadata": {},
   "outputs": [],
   "source": [
    "# update collibra, when the href attribute set is found, build payload with all href attributes to add\n",
    "def p(entry, uuidAttribute, attributeType): \n",
    "    return {\"assetId\": entry.get(\"rep\").get(\"metaDataValues\").get(uuidAttribute), \"typeId\": attributeType, \"value\": f\"dictionary/entry/{entry.get('rep').get('id')}\"}\n",
    "\n",
    "payload = [p(entry, uuidAttributeToSet.get(\"rep\").get(\"id\"), attributeTypeToSet.get(\"id\")) for entry in entriesCreated if \"rep\" in entry]\n",
    "\n",
    "response = collibra.get(\"session\").post(f\"{collibra.get('endpoint')}/attributes/bulk\", json=payload)"
   ]
  },
  {
   "cell_type": "code",
   "execution_count": 43,
   "metadata": {},
   "outputs": [],
   "source": [
    "# update dictionary items when href attribute set is found, list dictionary items which fail to update\n",
    "entriesUpdated = [updateEntry(signavio, categoryToUpdate, uuidAttributeToSet, typeAttributeToSet, hrefAttributeToSet, collibra, asset) for asset in assetsToUpdate]\n",
    "                            \n",
    "entriesThatFailed = [entry for entry in entriesUpdated if 'errors' in entry]\n",
    "\n",
    "df = pd.DataFrame([[entry.get(\"categoryNames\"), entry.get(\"title\"), entry.get(\"message\")] for entry in entriesThatFailed], columns =['category', 'title', 'error'])\n",
    "\n",
    "if not df.empty: display(df)"
   ]
  },
  {
   "cell_type": "code",
   "execution_count": null,
   "metadata": {},
   "outputs": [],
   "source": []
  },
  {
   "cell_type": "code",
   "execution_count": null,
   "metadata": {},
   "outputs": [],
   "source": []
  },
  {
   "cell_type": "code",
   "execution_count": null,
   "metadata": {},
   "outputs": [],
   "source": []
  },
  {
   "cell_type": "code",
   "execution_count": 15,
   "metadata": {},
   "outputs": [],
   "source": [
    "# def getDictionaryItems(signavio):\n",
    "#     try:                  \n",
    "#         url = f\"{signavio.get('host')}/p/glossary?q=*&category=19e32344735c43978b3e510c211fe069\"\n",
    "\n",
    "#         headers = {\"x-signavio-id\": signavio.get(\"authToken\"), \"accept\":\"application/json\"}\n",
    "\n",
    "#         cookies = {\"JSESSIONID\": signavio.get(\"jsessionId\"), \"LBROUTEID\": signavio.get(\"lbrouteId\")}\n",
    "\n",
    "#         request = requests.get(url, headers=headers, cookies=cookies)\n",
    "\n",
    "#         return request.json()\n",
    "        \n",
    "#     except Exception as e:\n",
    "#         return e\n",
    "    \n",
    "\n",
    "# def deleteDictionaryEntry(signavio, item):\n",
    "#     try:         \n",
    "#         url = f\"{signavio.get('host')}/p{item}\"\n",
    "\n",
    "#         headers = {\"x-signavio-id\": signavio.get(\"authToken\"), \"accept\":\"application/json\", 'content-type': 'application/x-www-form-urlencoded'}\n",
    "\n",
    "#         cookies = {\"JSESSIONID\": signavio.get(\"jsessionId\"), \"LBROUTEID\": signavio.get(\"lbrouteId\")}\n",
    "\n",
    "#         request = requests.delete(url, headers=headers, cookies=cookies)\n",
    "\n",
    "#         return request.json()\n",
    "        \n",
    "#     except Exception as e:\n",
    "#         return e    \n",
    "\n",
    "\n",
    "\n",
    "# items = [deleteDictionaryEntry(signavio, i.get(\"href\")) for i in getDictionaryItems(signavio) if i.get(\"rel\")==\"gitem\"]"
   ]
  },
  {
   "cell_type": "code",
   "execution_count": null,
   "metadata": {},
   "outputs": [],
   "source": []
  }
 ],
 "metadata": {
  "kernelspec": {
   "display_name": "Python 3 (ipykernel)",
   "language": "python",
   "name": "python3"
  },
  "language_info": {
   "codemirror_mode": {
    "name": "ipython",
    "version": 3
   },
   "file_extension": ".py",
   "mimetype": "text/x-python",
   "name": "python",
   "nbconvert_exporter": "python",
   "pygments_lexer": "ipython3",
   "version": "3.9.13"
  }
 },
 "nbformat": 4,
 "nbformat_minor": 2
}
